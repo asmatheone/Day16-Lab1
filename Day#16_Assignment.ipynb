{
 "cells": [
  {
   "cell_type": "code",
   "execution_count": 18,
   "metadata": {},
   "outputs": [],
   "source": [
    "## Import libraries to read dataset named Loan Default\n",
    "## Import proper statistical library\n",
    "import pandas as pd\n",
    "import pandasql as ps\n",
    "import matplotlib.pyplot as plt\n",
    "import seaborn as sns"
   ]
  },
  {
   "cell_type": "code",
   "execution_count": 19,
   "metadata": {},
   "outputs": [
    {
     "data": {
      "text/html": [
       "<div>\n",
       "<style scoped>\n",
       "    .dataframe tbody tr th:only-of-type {\n",
       "        vertical-align: middle;\n",
       "    }\n",
       "\n",
       "    .dataframe tbody tr th {\n",
       "        vertical-align: top;\n",
       "    }\n",
       "\n",
       "    .dataframe thead th {\n",
       "        text-align: right;\n",
       "    }\n",
       "</style>\n",
       "<table border=\"1\" class=\"dataframe\">\n",
       "  <thead>\n",
       "    <tr style=\"text-align: right;\">\n",
       "      <th></th>\n",
       "      <th>DISBURSED_AMOUNT</th>\n",
       "      <th>ASSET_COST</th>\n",
       "      <th>LTV</th>\n",
       "      <th>BRANCH_ID</th>\n",
       "      <th>SUPPLIER_ID</th>\n",
       "      <th>MANUFACTURER_ID</th>\n",
       "      <th>CURRENT_PINCODE_ID</th>\n",
       "      <th>DATE_OF_BIRTH</th>\n",
       "      <th>EMPLOYMENT_TYPE</th>\n",
       "      <th>DISBURSAL_DATE</th>\n",
       "      <th>...</th>\n",
       "      <th>SEC_CURRENT_BALANCE</th>\n",
       "      <th>SEC_SANCTIONED_AMOUNT</th>\n",
       "      <th>SEC_DISBURSED_AMOUNT</th>\n",
       "      <th>PRIMARY_INSTAL_AMT</th>\n",
       "      <th>SEC_INSTAL_AMT</th>\n",
       "      <th>NEW_ACCTS_IN_LAST_SIX_MONTHS</th>\n",
       "      <th>DELINQUENT_ACCTS_IN_LAST_SIX_MONTHS</th>\n",
       "      <th>AVERAGE_ACCT_AGE</th>\n",
       "      <th>CREDIT_HISTORY_LENGTH</th>\n",
       "      <th>NO_OF_INQUIRIES</th>\n",
       "    </tr>\n",
       "    <tr>\n",
       "      <th>UNIQUEID</th>\n",
       "      <th></th>\n",
       "      <th></th>\n",
       "      <th></th>\n",
       "      <th></th>\n",
       "      <th></th>\n",
       "      <th></th>\n",
       "      <th></th>\n",
       "      <th></th>\n",
       "      <th></th>\n",
       "      <th></th>\n",
       "      <th></th>\n",
       "      <th></th>\n",
       "      <th></th>\n",
       "      <th></th>\n",
       "      <th></th>\n",
       "      <th></th>\n",
       "      <th></th>\n",
       "      <th></th>\n",
       "      <th></th>\n",
       "      <th></th>\n",
       "      <th></th>\n",
       "    </tr>\n",
       "  </thead>\n",
       "  <tbody>\n",
       "    <tr>\n",
       "      <th>655269</th>\n",
       "      <td>53478</td>\n",
       "      <td>63558</td>\n",
       "      <td>86.54</td>\n",
       "      <td>67</td>\n",
       "      <td>22807</td>\n",
       "      <td>45</td>\n",
       "      <td>1497</td>\n",
       "      <td>01-01-1974</td>\n",
       "      <td>Salaried</td>\n",
       "      <td>03-11-2018</td>\n",
       "      <td>...</td>\n",
       "      <td>0</td>\n",
       "      <td>0</td>\n",
       "      <td>0</td>\n",
       "      <td>0</td>\n",
       "      <td>0</td>\n",
       "      <td>0</td>\n",
       "      <td>0</td>\n",
       "      <td>0yrs 0mon</td>\n",
       "      <td>0yrs 0mon</td>\n",
       "      <td>0</td>\n",
       "    </tr>\n",
       "    <tr>\n",
       "      <th>723482</th>\n",
       "      <td>55513</td>\n",
       "      <td>63163</td>\n",
       "      <td>89.45</td>\n",
       "      <td>67</td>\n",
       "      <td>22807</td>\n",
       "      <td>45</td>\n",
       "      <td>1497</td>\n",
       "      <td>20-05-1985</td>\n",
       "      <td>Self employed</td>\n",
       "      <td>20-11-2018</td>\n",
       "      <td>...</td>\n",
       "      <td>0</td>\n",
       "      <td>0</td>\n",
       "      <td>0</td>\n",
       "      <td>5605</td>\n",
       "      <td>0</td>\n",
       "      <td>1</td>\n",
       "      <td>0</td>\n",
       "      <td>0yrs 8mon</td>\n",
       "      <td>1yrs 0mon</td>\n",
       "      <td>1</td>\n",
       "    </tr>\n",
       "    <tr>\n",
       "      <th>758529</th>\n",
       "      <td>65282</td>\n",
       "      <td>84320</td>\n",
       "      <td>79.93</td>\n",
       "      <td>78</td>\n",
       "      <td>23135</td>\n",
       "      <td>86</td>\n",
       "      <td>2071</td>\n",
       "      <td>14-10-1995</td>\n",
       "      <td>Salaried</td>\n",
       "      <td>29-11-2018</td>\n",
       "      <td>...</td>\n",
       "      <td>0</td>\n",
       "      <td>0</td>\n",
       "      <td>0</td>\n",
       "      <td>0</td>\n",
       "      <td>0</td>\n",
       "      <td>0</td>\n",
       "      <td>0</td>\n",
       "      <td>0yrs 0mon</td>\n",
       "      <td>0yrs 0mon</td>\n",
       "      <td>0</td>\n",
       "    </tr>\n",
       "    <tr>\n",
       "      <th>763449</th>\n",
       "      <td>46905</td>\n",
       "      <td>63896</td>\n",
       "      <td>76.58</td>\n",
       "      <td>78</td>\n",
       "      <td>17014</td>\n",
       "      <td>45</td>\n",
       "      <td>2070</td>\n",
       "      <td>01-06-1973</td>\n",
       "      <td>Self employed</td>\n",
       "      <td>29-11-2018</td>\n",
       "      <td>...</td>\n",
       "      <td>0</td>\n",
       "      <td>0</td>\n",
       "      <td>0</td>\n",
       "      <td>0</td>\n",
       "      <td>0</td>\n",
       "      <td>0</td>\n",
       "      <td>0</td>\n",
       "      <td>2yrs 5mon</td>\n",
       "      <td>2yrs 5mon</td>\n",
       "      <td>0</td>\n",
       "    </tr>\n",
       "    <tr>\n",
       "      <th>708663</th>\n",
       "      <td>51428</td>\n",
       "      <td>63896</td>\n",
       "      <td>86.08</td>\n",
       "      <td>78</td>\n",
       "      <td>17014</td>\n",
       "      <td>45</td>\n",
       "      <td>2069</td>\n",
       "      <td>01-06-1972</td>\n",
       "      <td>Salaried</td>\n",
       "      <td>17-11-2018</td>\n",
       "      <td>...</td>\n",
       "      <td>0</td>\n",
       "      <td>0</td>\n",
       "      <td>0</td>\n",
       "      <td>0</td>\n",
       "      <td>0</td>\n",
       "      <td>0</td>\n",
       "      <td>0</td>\n",
       "      <td>0yrs 0mon</td>\n",
       "      <td>0yrs 0mon</td>\n",
       "      <td>0</td>\n",
       "    </tr>\n",
       "    <tr>\n",
       "      <th>...</th>\n",
       "      <td>...</td>\n",
       "      <td>...</td>\n",
       "      <td>...</td>\n",
       "      <td>...</td>\n",
       "      <td>...</td>\n",
       "      <td>...</td>\n",
       "      <td>...</td>\n",
       "      <td>...</td>\n",
       "      <td>...</td>\n",
       "      <td>...</td>\n",
       "      <td>...</td>\n",
       "      <td>...</td>\n",
       "      <td>...</td>\n",
       "      <td>...</td>\n",
       "      <td>...</td>\n",
       "      <td>...</td>\n",
       "      <td>...</td>\n",
       "      <td>...</td>\n",
       "      <td>...</td>\n",
       "      <td>...</td>\n",
       "      <td>...</td>\n",
       "    </tr>\n",
       "    <tr>\n",
       "      <th>755547</th>\n",
       "      <td>44875</td>\n",
       "      <td>72509</td>\n",
       "      <td>67.58</td>\n",
       "      <td>74</td>\n",
       "      <td>16646</td>\n",
       "      <td>86</td>\n",
       "      <td>2591</td>\n",
       "      <td>14-05-1992</td>\n",
       "      <td>Self employed</td>\n",
       "      <td>28-11-2018</td>\n",
       "      <td>...</td>\n",
       "      <td>0</td>\n",
       "      <td>0</td>\n",
       "      <td>0</td>\n",
       "      <td>0</td>\n",
       "      <td>0</td>\n",
       "      <td>0</td>\n",
       "      <td>0</td>\n",
       "      <td>0yrs 0mon</td>\n",
       "      <td>0yrs 0mon</td>\n",
       "      <td>0</td>\n",
       "    </tr>\n",
       "    <tr>\n",
       "      <th>716994</th>\n",
       "      <td>53549</td>\n",
       "      <td>72509</td>\n",
       "      <td>78.61</td>\n",
       "      <td>74</td>\n",
       "      <td>16646</td>\n",
       "      <td>86</td>\n",
       "      <td>2593</td>\n",
       "      <td>24-04-1984</td>\n",
       "      <td>Self employed</td>\n",
       "      <td>19-11-2018</td>\n",
       "      <td>...</td>\n",
       "      <td>0</td>\n",
       "      <td>0</td>\n",
       "      <td>0</td>\n",
       "      <td>0</td>\n",
       "      <td>0</td>\n",
       "      <td>0</td>\n",
       "      <td>0</td>\n",
       "      <td>0yrs 0mon</td>\n",
       "      <td>0yrs 0mon</td>\n",
       "      <td>0</td>\n",
       "    </tr>\n",
       "    <tr>\n",
       "      <th>709352</th>\n",
       "      <td>55243</td>\n",
       "      <td>72509</td>\n",
       "      <td>81.37</td>\n",
       "      <td>74</td>\n",
       "      <td>16646</td>\n",
       "      <td>86</td>\n",
       "      <td>2593</td>\n",
       "      <td>01-01-1986</td>\n",
       "      <td>Self employed</td>\n",
       "      <td>17-11-2018</td>\n",
       "      <td>...</td>\n",
       "      <td>0</td>\n",
       "      <td>0</td>\n",
       "      <td>0</td>\n",
       "      <td>0</td>\n",
       "      <td>0</td>\n",
       "      <td>0</td>\n",
       "      <td>0</td>\n",
       "      <td>4yrs 10mon</td>\n",
       "      <td>9yrs 5mon</td>\n",
       "      <td>0</td>\n",
       "    </tr>\n",
       "    <tr>\n",
       "      <th>699795</th>\n",
       "      <td>55243</td>\n",
       "      <td>72509</td>\n",
       "      <td>81.37</td>\n",
       "      <td>74</td>\n",
       "      <td>16646</td>\n",
       "      <td>86</td>\n",
       "      <td>2593</td>\n",
       "      <td>01-01-1973</td>\n",
       "      <td>Self employed</td>\n",
       "      <td>15-11-2018</td>\n",
       "      <td>...</td>\n",
       "      <td>0</td>\n",
       "      <td>0</td>\n",
       "      <td>0</td>\n",
       "      <td>0</td>\n",
       "      <td>0</td>\n",
       "      <td>1</td>\n",
       "      <td>1</td>\n",
       "      <td>0yrs 3mon</td>\n",
       "      <td>0yrs 3mon</td>\n",
       "      <td>0</td>\n",
       "    </tr>\n",
       "    <tr>\n",
       "      <th>755244</th>\n",
       "      <td>40274</td>\n",
       "      <td>72509</td>\n",
       "      <td>60.68</td>\n",
       "      <td>74</td>\n",
       "      <td>16646</td>\n",
       "      <td>86</td>\n",
       "      <td>2593</td>\n",
       "      <td>01-01-1974</td>\n",
       "      <td>Self employed</td>\n",
       "      <td>28-11-2018</td>\n",
       "      <td>...</td>\n",
       "      <td>0</td>\n",
       "      <td>0</td>\n",
       "      <td>0</td>\n",
       "      <td>0</td>\n",
       "      <td>0</td>\n",
       "      <td>0</td>\n",
       "      <td>0</td>\n",
       "      <td>0yrs 0mon</td>\n",
       "      <td>0yrs 0mon</td>\n",
       "      <td>0</td>\n",
       "    </tr>\n",
       "  </tbody>\n",
       "</table>\n",
       "<p>112392 rows × 39 columns</p>\n",
       "</div>"
      ],
      "text/plain": [
       "          DISBURSED_AMOUNT  ASSET_COST    LTV  BRANCH_ID  SUPPLIER_ID  \\\n",
       "UNIQUEID                                                                \n",
       "655269               53478       63558  86.54         67        22807   \n",
       "723482               55513       63163  89.45         67        22807   \n",
       "758529               65282       84320  79.93         78        23135   \n",
       "763449               46905       63896  76.58         78        17014   \n",
       "708663               51428       63896  86.08         78        17014   \n",
       "...                    ...         ...    ...        ...          ...   \n",
       "755547               44875       72509  67.58         74        16646   \n",
       "716994               53549       72509  78.61         74        16646   \n",
       "709352               55243       72509  81.37         74        16646   \n",
       "699795               55243       72509  81.37         74        16646   \n",
       "755244               40274       72509  60.68         74        16646   \n",
       "\n",
       "          MANUFACTURER_ID  CURRENT_PINCODE_ID DATE_OF_BIRTH EMPLOYMENT_TYPE  \\\n",
       "UNIQUEID                                                                      \n",
       "655269                 45                1497    01-01-1974        Salaried   \n",
       "723482                 45                1497    20-05-1985   Self employed   \n",
       "758529                 86                2071    14-10-1995        Salaried   \n",
       "763449                 45                2070    01-06-1973   Self employed   \n",
       "708663                 45                2069    01-06-1972        Salaried   \n",
       "...                   ...                 ...           ...             ...   \n",
       "755547                 86                2591    14-05-1992   Self employed   \n",
       "716994                 86                2593    24-04-1984   Self employed   \n",
       "709352                 86                2593    01-01-1986   Self employed   \n",
       "699795                 86                2593    01-01-1973   Self employed   \n",
       "755244                 86                2593    01-01-1974   Self employed   \n",
       "\n",
       "         DISBURSAL_DATE  ...  SEC_CURRENT_BALANCE  SEC_SANCTIONED_AMOUNT  \\\n",
       "UNIQUEID                 ...                                               \n",
       "655269       03-11-2018  ...                    0                      0   \n",
       "723482       20-11-2018  ...                    0                      0   \n",
       "758529       29-11-2018  ...                    0                      0   \n",
       "763449       29-11-2018  ...                    0                      0   \n",
       "708663       17-11-2018  ...                    0                      0   \n",
       "...                 ...  ...                  ...                    ...   \n",
       "755547       28-11-2018  ...                    0                      0   \n",
       "716994       19-11-2018  ...                    0                      0   \n",
       "709352       17-11-2018  ...                    0                      0   \n",
       "699795       15-11-2018  ...                    0                      0   \n",
       "755244       28-11-2018  ...                    0                      0   \n",
       "\n",
       "          SEC_DISBURSED_AMOUNT  PRIMARY_INSTAL_AMT  SEC_INSTAL_AMT  \\\n",
       "UNIQUEID                                                             \n",
       "655269                       0                   0               0   \n",
       "723482                       0                5605               0   \n",
       "758529                       0                   0               0   \n",
       "763449                       0                   0               0   \n",
       "708663                       0                   0               0   \n",
       "...                        ...                 ...             ...   \n",
       "755547                       0                   0               0   \n",
       "716994                       0                   0               0   \n",
       "709352                       0                   0               0   \n",
       "699795                       0                   0               0   \n",
       "755244                       0                   0               0   \n",
       "\n",
       "          NEW_ACCTS_IN_LAST_SIX_MONTHS  DELINQUENT_ACCTS_IN_LAST_SIX_MONTHS  \\\n",
       "UNIQUEID                                                                      \n",
       "655269                               0                                    0   \n",
       "723482                               1                                    0   \n",
       "758529                               0                                    0   \n",
       "763449                               0                                    0   \n",
       "708663                               0                                    0   \n",
       "...                                ...                                  ...   \n",
       "755547                               0                                    0   \n",
       "716994                               0                                    0   \n",
       "709352                               0                                    0   \n",
       "699795                               1                                    1   \n",
       "755244                               0                                    0   \n",
       "\n",
       "          AVERAGE_ACCT_AGE  CREDIT_HISTORY_LENGTH NO_OF_INQUIRIES  \n",
       "UNIQUEID                                                           \n",
       "655269           0yrs 0mon              0yrs 0mon               0  \n",
       "723482           0yrs 8mon              1yrs 0mon               1  \n",
       "758529           0yrs 0mon              0yrs 0mon               0  \n",
       "763449           2yrs 5mon              2yrs 5mon               0  \n",
       "708663           0yrs 0mon              0yrs 0mon               0  \n",
       "...                    ...                    ...             ...  \n",
       "755547           0yrs 0mon              0yrs 0mon               0  \n",
       "716994           0yrs 0mon              0yrs 0mon               0  \n",
       "709352          4yrs 10mon              9yrs 5mon               0  \n",
       "699795           0yrs 3mon              0yrs 3mon               0  \n",
       "755244           0yrs 0mon              0yrs 0mon               0  \n",
       "\n",
       "[112392 rows x 39 columns]"
      ]
     },
     "execution_count": 19,
     "metadata": {},
     "output_type": "execute_result"
    }
   ],
   "source": [
    "df = pd.read_csv(\"Loan_Defaults.csv\", index_col=0)\n",
    "df"
   ]
  },
  {
   "cell_type": "code",
   "execution_count": 20,
   "metadata": {},
   "outputs": [
    {
     "name": "stdout",
     "output_type": "stream",
     "text": [
      "<class 'pandas.core.frame.DataFrame'>\n",
      "Int64Index: 112392 entries, 655269 to 755244\n",
      "Data columns (total 39 columns):\n",
      " #   Column                               Non-Null Count   Dtype  \n",
      "---  ------                               --------------   -----  \n",
      " 0   DISBURSED_AMOUNT                     112392 non-null  int64  \n",
      " 1   ASSET_COST                           112392 non-null  int64  \n",
      " 2   LTV                                  112392 non-null  float64\n",
      " 3   BRANCH_ID                            112392 non-null  int64  \n",
      " 4   SUPPLIER_ID                          112392 non-null  int64  \n",
      " 5   MANUFACTURER_ID                      112392 non-null  int64  \n",
      " 6   CURRENT_PINCODE_ID                   112392 non-null  int64  \n",
      " 7   DATE_OF_BIRTH                        112392 non-null  object \n",
      " 8   EMPLOYMENT_TYPE                      108949 non-null  object \n",
      " 9   DISBURSAL_DATE                       112392 non-null  object \n",
      " 10  STATE_ID                             112392 non-null  int64  \n",
      " 11  EMPLOYEE_CODE_ID                     112392 non-null  int64  \n",
      " 12  MOBILENO_AVL_FLAG                    112392 non-null  int64  \n",
      " 13  AADHAR_FLAG                          112392 non-null  int64  \n",
      " 14  PAN_FLAG                             112392 non-null  int64  \n",
      " 15  VOTERID_FLAG                         112392 non-null  int64  \n",
      " 16  DRIVING_FLAG                         112392 non-null  int64  \n",
      " 17  PASSPORT_FLAG                        112392 non-null  int64  \n",
      " 18  PERFORM_CNS_SCORE                    112392 non-null  int64  \n",
      " 19  PERFORM_CNS_SCORE_DESCRIPTION        112392 non-null  object \n",
      " 20  PRI_NO_OF_ACCTS                      112392 non-null  int64  \n",
      " 21  PRI_ACTIVE_ACCTS                     112392 non-null  int64  \n",
      " 22  PRI_OVERDUE_ACCTS                    112392 non-null  int64  \n",
      " 23  PRI_CURRENT_BALANCE                  112392 non-null  int64  \n",
      " 24  PRI_SANCTIONED_AMOUNT                112392 non-null  int64  \n",
      " 25  PRI_DISBURSED_AMOUNT                 112392 non-null  int64  \n",
      " 26  SEC_NO_OF_ACCTS                      112392 non-null  int64  \n",
      " 27  SEC_ACTIVE_ACCTS                     112392 non-null  int64  \n",
      " 28  SEC_OVERDUE_ACCTS                    112392 non-null  int64  \n",
      " 29  SEC_CURRENT_BALANCE                  112392 non-null  int64  \n",
      " 30  SEC_SANCTIONED_AMOUNT                112392 non-null  int64  \n",
      " 31  SEC_DISBURSED_AMOUNT                 112392 non-null  int64  \n",
      " 32  PRIMARY_INSTAL_AMT                   112392 non-null  int64  \n",
      " 33  SEC_INSTAL_AMT                       112392 non-null  int64  \n",
      " 34  NEW_ACCTS_IN_LAST_SIX_MONTHS         112392 non-null  int64  \n",
      " 35  DELINQUENT_ACCTS_IN_LAST_SIX_MONTHS  112392 non-null  int64  \n",
      " 36  AVERAGE_ACCT_AGE                     112392 non-null  object \n",
      " 37  CREDIT_HISTORY_LENGTH                112392 non-null  object \n",
      " 38  NO_OF_INQUIRIES                      112392 non-null  int64  \n",
      "dtypes: float64(1), int64(32), object(6)\n",
      "memory usage: 34.3+ MB\n"
     ]
    }
   ],
   "source": [
    "df.info()"
   ]
  },
  {
   "cell_type": "code",
   "execution_count": 2,
   "metadata": {},
   "outputs": [],
   "source": [
    "## Calculate Mean, Median, Mode, and Standard Deviation of the amount of Loan disbursed in the column named disbursed_amount."
   ]
  },
  {
   "cell_type": "code",
   "execution_count": 22,
   "metadata": {},
   "outputs": [
    {
     "data": {
      "text/plain": [
       "56076.80326891594"
      ]
     },
     "execution_count": 22,
     "metadata": {},
     "output_type": "execute_result"
    }
   ],
   "source": [
    "df['DISBURSED_AMOUNT'].mean()"
   ]
  },
  {
   "cell_type": "code",
   "execution_count": 24,
   "metadata": {},
   "outputs": [
    {
     "data": {
      "text/plain": [
       "55359.0"
      ]
     },
     "execution_count": 24,
     "metadata": {},
     "output_type": "execute_result"
    }
   ],
   "source": [
    "df['DISBURSED_AMOUNT'].median()"
   ]
  },
  {
   "cell_type": "code",
   "execution_count": 25,
   "metadata": {},
   "outputs": [
    {
     "data": {
      "text/plain": [
       "0    53303\n",
       "dtype: int64"
      ]
     },
     "execution_count": 25,
     "metadata": {},
     "output_type": "execute_result"
    }
   ],
   "source": [
    "df['DISBURSED_AMOUNT'].mode()"
   ]
  },
  {
   "cell_type": "code",
   "execution_count": 47,
   "metadata": {},
   "outputs": [
    {
     "data": {
      "text/plain": [
       "13123.697627449983"
      ]
     },
     "execution_count": 47,
     "metadata": {},
     "output_type": "execute_result"
    }
   ],
   "source": [
    "df['DISBURSED_AMOUNT'].std()"
   ]
  },
  {
   "cell_type": "code",
   "execution_count": 51,
   "metadata": {},
   "outputs": [
    {
     "data": {
      "text/plain": [
       "count    112392.000000\n",
       "mean         75.310325\n",
       "std          11.006380\n",
       "min          10.030000\n",
       "25%          69.970000\n",
       "50%          77.780000\n",
       "75%          83.740000\n",
       "max          95.000000\n",
       "Name: LTV, dtype: float64"
      ]
     },
     "execution_count": 51,
     "metadata": {},
     "output_type": "execute_result"
    }
   ],
   "source": [
    "# Explain your findings for a value of your choice\n",
    "df['LTV'].describe()"
   ]
  },
  {
   "cell_type": "code",
   "execution_count": 54,
   "metadata": {},
   "outputs": [
    {
     "data": {
      "text/plain": [
       "0    85.0\n",
       "dtype: float64"
      ]
     },
     "execution_count": 54,
     "metadata": {},
     "output_type": "execute_result"
    }
   ],
   "source": [
    "df['LTV'].mode()"
   ]
  },
  {
   "cell_type": "markdown",
   "metadata": {},
   "source": [
    "The loan-to-value ratio (LTV), \n",
    "(the typical LTV is between 75-85)\n",
    "mean:75\n",
    "median:77 \n",
    "mode:85\n",
    "std:11\n",
    "\n",
    "-The data is slightly skewed to the left. \n",
    " -Mean value is less than median, and Mode is bigger.\n",
    "-smaller standard deviation implies that the data points are more crowded around the mean, which means less extreme values\n",
    "\n",
    "However,\n",
    "min=10\n",
    "max=95\n",
    "\n",
    "means the data has outliers\n",
    "which can change the results of the data analysis and statistical modeling"
   ]
  },
  {
   "cell_type": "code",
   "execution_count": 59,
   "metadata": {},
   "outputs": [
    {
     "data": {
      "image/png": "[encoded data removed]",
      "text/plain": [
       "<Figure size 640x480 with 1 Axes>"
      ]
     },
     "metadata": {},
     "output_type": "display_data"
    }
   ],
   "source": [
    "df['LTV'].plot.kde();"
   ]
  },
  {
   "cell_type": "code",
   "execution_count": 61,
   "metadata": {},
   "outputs": [
    {
     "data": {
      "image/png": "[encoded data removed]",
      "text/plain": [
       "<Figure size 640x480 with 1 Axes>"
      ]
     },
     "metadata": {},
     "output_type": "display_data"
    }
   ],
   "source": [
    "plt.boxplot(df['LTV']);"
   ]
  },
  {
   "cell_type": "code",
   "execution_count": 3,
   "metadata": {},
   "outputs": [],
   "source": [
    "## Write a SQL query to calculate the mean of the variable disbursed_amount. Let the table be loan_defaults.\n",
    "# These conditions applies to the query results:  for the salaried segment who have the time since their first loan been over 9 years"
   ]
  },
  {
   "cell_type": "code",
   "execution_count": 46,
   "metadata": {},
   "outputs": [
    {
     "name": "stdout",
     "output_type": "stream",
     "text": [
      "   avg(disbursed_amount)\n",
      "0           56239.447084\n"
     ]
    }
   ],
   "source": [
    "q1 = 'SELECT avg(disbursed_amount) FROM df where CREDIT_HISTORY_LENGTH like \"9yrs%\" order by CREDIT_HISTORY_LENGTH '\n",
    "print(ps.sqldf(q1, locals()))"
   ]
  },
  {
   "cell_type": "code",
   "execution_count": null,
   "metadata": {},
   "outputs": [],
   "source": []
  }
 ],
 "metadata": {
  "kernelspec": {
   "display_name": "Python 3 (ipykernel)",
   "language": "python",
   "name": "python3"
  },
  "language_info": {
   "codemirror_mode": {
    "name": "ipython",
    "version": 3
   },
   "file_extension": ".py",
   "mimetype": "text/x-python",
   "name": "python",
   "nbconvert_exporter": "python",
   "pygments_lexer": "ipython3",
   "version": "3.7.13"
  },
  "vscode": {
   "interpreter": {
    "hash": "31f2aee4e71d21fbe5cf8b01ff0e069b9275f58929596ceb00d14d90e3e16cd6"
   }
  }
 },
 "nbformat": 4,
 "nbformat_minor": 4
}
